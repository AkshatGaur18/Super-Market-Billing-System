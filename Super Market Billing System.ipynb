{
 "cells": [
  {
   "cell_type": "markdown",
   "id": "406ecb85-9460-4bd4-b5b2-0039de34b91d",
   "metadata": {},
   "source": [
    "# Super Market Billing System\n",
    "\n"
   ]
  },
  {
   "cell_type": "code",
   "execution_count": 19,
   "id": "0f050ab1-570a-4470-829c-24cfa73f52bf",
   "metadata": {},
   "outputs": [
    {
     "name": "stdin",
     "output_type": "stream",
     "text": [
      "Please Enter Your Name:      akshat\n"
     ]
    },
    {
     "name": "stdout",
     "output_type": "stream",
     "text": [
      "\n",
      "\n",
      "\n",
      "--------------Choose From Our SuperMartket--------------\n",
      "Apple                       30 FRUITS\n",
      "Banana                      10 FRUITS\n",
      "Milk                        55 DAIRY\n",
      "Bread                       40 BAKERY\n",
      "Eggs                        70 DAIRY\n",
      "Shampoo                    120 PERSONAL CARE\n",
      "Toothpaste                  50 PERSONAL CARE\n",
      "Tomato                      25 VEGETABLES\n",
      "Potato                      20 VEGETABLES\n",
      "Onion                       30 VEGETABLES\n",
      "Chicken                    220 MEAT\n",
      "Fish                       300 MEAT\n",
      "Rice                        60 GRAINS\n",
      "Wheat Flour                 45 GRAINS\n",
      "Sugar                       40 GROCERY\n",
      "Salt                        20 GROCERY\n",
      "Detergent                   90 CLEANING\n",
      "Toilet Cleaner             110 CLEANING\n",
      "Cooking Oil                150 GROCERY\n",
      "Paneer                      85 DAIRY\n",
      "Butter                      75 DAIRY\n",
      "Biscuit                     25 SNACKS\n",
      "Chocolate                   50 SNACKS\n",
      "Cold Drink                  45 BEVERAGES\n",
      "Tea                        180 BEVERAGES\n",
      "---------------------Today's Offers---------------------\n",
      "\n",
      "On Shopping more than 3 item get 5% discount\n",
      "On Shopping more than amount 3000 item additional get 5% discount\n",
      "\n",
      "--------------------------------------------------------\n",
      "\n",
      "\n",
      "\n"
     ]
    },
    {
     "name": "stdin",
     "output_type": "stream",
     "text": [
      "Which product?:       milk\n",
      "Enter Quantity:   4\n"
     ]
    },
    {
     "name": "stdout",
     "output_type": "stream",
     "text": [
      "Item Name: Milk     Quantity: 4     Amount: 220\n",
      "Item Added to Cart.\n"
     ]
    },
    {
     "name": "stdin",
     "output_type": "stream",
     "text": [
      "Press Enter to add more item OR (Y/N):      \n"
     ]
    },
    {
     "name": "stdout",
     "output_type": "stream",
     "text": [
      "--------------Choose From Our SuperMartket--------------\n",
      "Apple                       30 FRUITS\n",
      "Banana                      10 FRUITS\n",
      "Milk                        55 DAIRY\n",
      "Bread                       40 BAKERY\n",
      "Eggs                        70 DAIRY\n",
      "Shampoo                    120 PERSONAL CARE\n",
      "Toothpaste                  50 PERSONAL CARE\n",
      "Tomato                      25 VEGETABLES\n",
      "Potato                      20 VEGETABLES\n",
      "Onion                       30 VEGETABLES\n",
      "Chicken                    220 MEAT\n",
      "Fish                       300 MEAT\n",
      "Rice                        60 GRAINS\n",
      "Wheat Flour                 45 GRAINS\n",
      "Sugar                       40 GROCERY\n",
      "Salt                        20 GROCERY\n",
      "Detergent                   90 CLEANING\n",
      "Toilet Cleaner             110 CLEANING\n",
      "Cooking Oil                150 GROCERY\n",
      "Paneer                      85 DAIRY\n",
      "Butter                      75 DAIRY\n",
      "Biscuit                     25 SNACKS\n",
      "Chocolate                   50 SNACKS\n",
      "Cold Drink                  45 BEVERAGES\n",
      "Tea                        180 BEVERAGES\n",
      "---------------------Today's Offers---------------------\n",
      "\n",
      "On Shopping more than 3 item get 5% discount\n",
      "On Shopping more than amount 3000 item additional get 5% discount\n",
      "\n",
      "--------------------------------------------------------\n",
      "\n",
      "\n",
      "\n"
     ]
    },
    {
     "name": "stdin",
     "output_type": "stream",
     "text": [
      "Which product?:       eggs\n",
      "Enter Quantity:   100\n"
     ]
    },
    {
     "name": "stdout",
     "output_type": "stream",
     "text": [
      "Item Name: Eggs     Quantity: 100     Amount: 7000\n",
      "Item Added to Cart.\n"
     ]
    },
    {
     "name": "stdin",
     "output_type": "stream",
     "text": [
      "Press Enter to add more item OR (Y/N):      N\n"
     ]
    },
    {
     "name": "stdout",
     "output_type": "stream",
     "text": [
      "-----------------------------------------\n",
      "HI AKSHAT\n",
      "------------- Your Cart -----------------\n",
      "Item              Qty    Price    Amount\n",
      "Milk           :   55      4      220\n",
      "Eggs           :   70    100     7000\n",
      "-----------------------------------------\n",
      "Your Total is  :                  7220\n",
      "Your discount of large Cart:      361.0\n",
      "Your Sub-Total is  :              6859.0\n",
      "-----------------------------------------\n"
     ]
    },
    {
     "name": "stdin",
     "output_type": "stream",
     "text": [
      "New Bill - Y/N:    N\n"
     ]
    }
   ],
   "source": [
    "store_items = {\n",
    "    1001: {\"name\": \"Apple\", \"price\": 30, \"category\": \"Fruits\"},\n",
    "    1002: {\"name\": \"Banana\", \"price\": 10, \"category\": \"Fruits\"},\n",
    "    1003: {\"name\": \"Milk\", \"price\": 55, \"category\": \"Dairy\"},\n",
    "    1004: {\"name\": \"Bread\", \"price\": 40, \"category\": \"Bakery\"},\n",
    "    1005: {\"name\": \"Eggs\", \"price\": 70, \"category\": \"Dairy\"},\n",
    "    1006: {\"name\": \"Shampoo\", \"price\": 120, \"category\": \"Personal Care\"},\n",
    "    1007: {\"name\": \"Toothpaste\", \"price\": 50, \"category\": \"Personal Care\"},\n",
    "    1008: {\"name\": \"Tomato\", \"price\": 25, \"category\": \"Vegetables\"},\n",
    "    1009: {\"name\": \"Potato\", \"price\": 20, \"category\": \"Vegetables\"},\n",
    "    1010: {\"name\": \"Onion\", \"price\": 30, \"category\": \"Vegetables\"},\n",
    "    1011: {\"name\": \"Chicken\", \"price\": 220, \"category\": \"Meat\"},\n",
    "    1012: {\"name\": \"Fish\", \"price\": 300, \"category\": \"Meat\"},\n",
    "    1013: {\"name\": \"Rice\", \"price\": 60, \"category\": \"Grains\"},\n",
    "    1014: {\"name\": \"Wheat Flour\", \"price\": 45, \"category\": \"Grains\"},\n",
    "    1015: {\"name\": \"Sugar\", \"price\": 40, \"category\": \"Grocery\"},\n",
    "    1016: {\"name\": \"Salt\", \"price\": 20, \"category\": \"Grocery\"},\n",
    "    1017: {\"name\": \"Detergent\", \"price\": 90, \"category\": \"Cleaning\"},\n",
    "    1018: {\"name\": \"Toilet Cleaner\", \"price\": 110, \"category\": \"Cleaning\"},\n",
    "    1019: {\"name\": \"Cooking Oil\", \"price\": 150, \"category\": \"Grocery\"},\n",
    "    1020: {\"name\": \"Paneer\", \"price\": 85, \"category\": \"Dairy\"},\n",
    "    1021: {\"name\": \"Butter\", \"price\": 75, \"category\": \"Dairy\"},\n",
    "    1022: {\"name\": \"Biscuit\", \"price\": 25, \"category\": \"Snacks\"},\n",
    "    1023: {\"name\": \"Chocolate\", \"price\": 50, \"category\": \"Snacks\"},\n",
    "    1024: {\"name\": \"Cold Drink\", \"price\": 45, \"category\": \"Beverages\"},\n",
    "    1025: {\"name\": \"Tea\", \"price\": 180, \"category\": \"Beverages\"}\n",
    "}\n",
    "# for i in store_items.values():\n",
    "#     print(i[\"name\"])\n",
    "while True:\n",
    "    Total = 0\n",
    "    name = input(\"Please Enter Your Name:     \")\n",
    "    print()\n",
    "    print()\n",
    "    print()\n",
    "    cart = {}\n",
    "    count = 0\n",
    "        \n",
    "    while True:\n",
    "        print(\"--------------Choose From Our SuperMartket--------------\")\n",
    "        for i in store_items.values():\n",
    "            print(f\"{i['name']:15}{i['price']:15} {i['category'].upper()}\")\n",
    "        # print(\"--------------------------------------------------------\")\n",
    "        print(\"---------------------Today's Offers---------------------\")\n",
    "        print()\n",
    "        print(\"On Shopping more than 3 item get 5% discount\")\n",
    "        print(\"On Shopping more than amount 3000 item additional get 5% discount\")\n",
    "        print()\n",
    "        print(\"--------------------------------------------------------\")\n",
    "        \n",
    "        print()\n",
    "        print()\n",
    "        print()\n",
    "        \n",
    "        product = input(\"Which product?:      \")\n",
    "        found = False\n",
    "        for i in store_items.values():\n",
    "            if(i[\"name\"].lower()==product.lower()):\n",
    "                quantity = int(input(\"Enter Quantity:  \"))\n",
    "                amt = i[\"price\"]*quantity\n",
    "                print(f\"Item Name: {i[\"name\"]}     Quantity: {quantity}     Amount: {amt}\")\n",
    "                Total =  Total + amt\n",
    "                cart.update({\n",
    "                i[\"name\"]: {\n",
    "                    \"Price\": i[\"price\"],\n",
    "                    \"Quantity\": quantity,\n",
    "                    \"Amount\": amt}})\n",
    "\n",
    "                print(\"Item Added to Cart.\")\n",
    "                found = True\n",
    "                break\n",
    "        if not found:\n",
    "            count +=1\n",
    "            if(count<3):\n",
    "                print(\"Item Not Found! Please Try Again.\")\n",
    "                continue\n",
    "            break\n",
    "        more =input(\"Press Enter to add more item OR (Y/N):     \")\n",
    "        if (more == 'Y' or more==''):\n",
    "            continue\n",
    "        else:\n",
    "            break\n",
    "            \n",
    "        \n",
    "            \n",
    "        \n",
    "    \n",
    "    print(\"-----------------------------------------\")   \n",
    "    print(f\"HI {name.upper()}\")\n",
    "    print(\"------------- Your Cart -----------------\")\n",
    "    print(f\"{'Item':15} {'Qty':>5} {'Price':>8} {'Amount':>9}\")\n",
    "    for i,j in cart.items():\n",
    "        print(f\"{i:15}:{j['Price']:>5}{j['Quantity']:>7}{j['Amount']:>9}\")\n",
    "    print(\"-----------------------------------------\")   \n",
    "    print(f\"Your Total is  :                  {Total}\")\n",
    "    discount = 0\n",
    "\n",
    "\n",
    "    \n",
    "    if(len(cart)>3 and Total>3000):\n",
    "        discount = Total*.1\n",
    "        print(f\"Your discount :                  {discount}\")\n",
    "    elif(len(cart)>3):\n",
    "        discount = Total*.05\n",
    "        print(f\"Your discount of large Cart:      {discount}\")\n",
    "    elif(Total>3000):\n",
    "        discount = Total*.05\n",
    "        print(f\"Your discount of large Cart:      {discount}\")\n",
    "\n",
    "        \n",
    "    print(f\"Your Sub-Total is  :              {Total-discount}\")\n",
    "    print(\"-----------------------------------------\")   \n",
    "    new_bill = input(\"New Bill - Y/N:   \")\n",
    "    if(new_bill.lower() == 'y'): continue\n",
    "    break\n",
    "\n",
    "        \n",
    "        \n",
    "    "
   ]
  },
  {
   "cell_type": "markdown",
   "id": "e7b5956a-a5d5-4b89-9b07-dea2b16f47dc",
   "metadata": {},
   "source": [
    "# "
   ]
  },
  {
   "cell_type": "code",
   "execution_count": null,
   "id": "2d62fe9e-2937-44dc-b4a8-5f6e1a5809ff",
   "metadata": {},
   "outputs": [],
   "source": []
  }
 ],
 "metadata": {
  "kernelspec": {
   "display_name": "Python [conda env:base] *",
   "language": "python",
   "name": "conda-base-py"
  },
  "language_info": {
   "codemirror_mode": {
    "name": "ipython",
    "version": 3
   },
   "file_extension": ".py",
   "mimetype": "text/x-python",
   "name": "python",
   "nbconvert_exporter": "python",
   "pygments_lexer": "ipython3",
   "version": "3.13.5"
  }
 },
 "nbformat": 4,
 "nbformat_minor": 5
}
